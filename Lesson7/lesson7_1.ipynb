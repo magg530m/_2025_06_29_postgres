{
 "cells": [
  {
   "cell_type": "markdown",
   "id": "40c23edb",
   "metadata": {},
   "source": [
    "### 這是python基礎課程\n",
    "* python基本資料型別\n"
   ]
  },
  {
   "cell_type": "code",
   "execution_count": 3,
   "id": "312d42ff",
   "metadata": {},
   "outputs": [
    {
     "name": "stdout",
     "output_type": "stream",
     "text": [
      "Hello! Python\n",
      "以下是Python的基本資料類型(int, float, str, bool)\n"
     ]
    },
    {
     "data": {
      "text/plain": [
       "False"
      ]
     },
     "execution_count": 3,
     "metadata": {},
     "output_type": "execute_result"
    }
   ],
   "source": [
    "print(\"Hello! Python\")\n",
    "print(\"以下是Python的基本資料類型(int, float, str, bool)\")\n",
    "15 #整數,(int)\n",
    "15.0 #浮點數,(float)\n",
    "\"15.0\" # 字符串,(str)\n",
    "'15.0' # 字符串,(str)\n",
    "True # 布林值,(bool)\n",
    "False # 布林值,(bool)"
   ]
  },
  {
   "cell_type": "code",
   "execution_count": 4,
   "id": "5cf0bf95",
   "metadata": {},
   "outputs": [
    {
     "name": "stdout",
     "output_type": "stream",
     "text": [
      "SELECT \"stationCode\",\"stationName\",\"stationAddrTw\"\n",
      "FROM \"台鐵車站資訊\"\n",
      "WHERE \"stationAddrTw\" LIKE '%基隆市%';\n"
     ]
    }
   ],
   "source": [
    "print(\"SELECT \\\"stationCode\\\",\\\"stationName\\\",\\\"stationAddrTw\\\"\\nFROM \\\"台鐵車站資訊\\\"\\nWHERE \\\"stationAddrTw\\\" LIKE \\'%基隆市%\\';\")"
   ]
  },
  {
   "cell_type": "code",
   "execution_count": 6,
   "id": "6d966d35",
   "metadata": {},
   "outputs": [
    {
     "name": "stdout",
     "output_type": "stream",
     "text": [
      "SELECT \"stationCode\",\"stationName\",\"stationAddrTw\n",
      "FROM \"台鐵車站資訊\"\n",
      "WHERE \"stationAddrTw\" LIKE '%基隆市%';\n"
     ]
    }
   ],
   "source": [
    "### 多行文字\n",
    "print(\"\"\"SELECT \"stationCode\",\"stationName\",\"stationAddrTw\n",
    "FROM \"台鐵車站資訊\"\n",
    "WHERE \"stationAddrTw\" LIKE '%基隆市%';\"\"\")"
   ]
  },
  {
   "cell_type": "code",
   "execution_count": 7,
   "id": "ae90062b",
   "metadata": {},
   "outputs": [
    {
     "name": "stdout",
     "output_type": "stream",
     "text": [
      "SELECT\n",
      "  \"stationCode\",\n",
      "  \"stationName\",\n",
      "  \"name\"\n",
      "FROM\n",
      "  \"台鐵車站資訊\"\n",
      "WHERE\n",
      "  \"stationAddrTw\" LIKE '基隆市%';\n"
     ]
    }
   ],
   "source": [
    "print(\"\"\"SELECT\n",
    "  \"stationCode\",\n",
    "  \"stationName\",\n",
    "  \"name\"\n",
    "FROM\n",
    "  \"台鐵車站資訊\"\n",
    "WHERE\n",
    "  \"stationAddrTw\" LIKE '基隆市%';\"\"\")"
   ]
  },
  {
   "cell_type": "code",
   "execution_count": null,
   "id": "308c1532",
   "metadata": {},
   "outputs": [],
   "source": [
    "SELECT\n",
    "  \"stationCode\",\n",
    "  \"stationName\",\n",
    "  \"name\"\n",
    "FROM\n",
    "  \"台鐵車站資訊\"\n",
    "WHERE\n",
    "  \"stationAddrTw\" LIKE '台北市%';\n",
    "\n",
    "\n",
    "SELECT * \n",
    "FROM \"每日各站進出站人數\" LEFT JOIN \"台鐵車站資訊\" ON \"車站代碼\" = \"stationCode\";"
   ]
  }
 ],
 "metadata": {
  "kernelspec": {
   "display_name": "base",
   "language": "python",
   "name": "python3"
  },
  "language_info": {
   "codemirror_mode": {
    "name": "ipython",
    "version": 3
   },
   "file_extension": ".py",
   "mimetype": "text/x-python",
   "name": "python",
   "nbconvert_exporter": "python",
   "pygments_lexer": "ipython3",
   "version": "3.13.2"
  }
 },
 "nbformat": 4,
 "nbformat_minor": 5
}
