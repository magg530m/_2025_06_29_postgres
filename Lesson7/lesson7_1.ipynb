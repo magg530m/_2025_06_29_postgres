{
 "cells": [
  {
   "cell_type": "markdown",
   "id": "40c23edb",
   "metadata": {},
   "source": [
    "### 這是python基礎課程\n",
    "* python基本資料型別\n"
   ]
  },
  {
   "cell_type": "code",
   "execution_count": 3,
   "id": "312d42ff",
   "metadata": {},
   "outputs": [
    {
     "name": "stdout",
     "output_type": "stream",
     "text": [
      "Hello! Python\n",
      "以下是Python的基本資料類型(int, float, str, bool)\n"
     ]
    },
    {
     "data": {
      "text/plain": [
       "False"
      ]
     },
     "execution_count": 3,
     "metadata": {},
     "output_type": "execute_result"
    }
   ],
   "source": [
    "print(\"Hello! Python\")\n",
    "print(\"以下是Python的基本資料類型(int, float, str, bool)\")\n",
    "15 #整數,(int)\n",
    "15.0 #浮點數,(float)\n",
    "\"15.0\" # 字符串,(str)\n",
    "'15.0' # 字符串,(str)\n",
    "True # 布林值,(bool)\n",
    "False # 布林值,(bool)"
   ]
  }
 ],
 "metadata": {
  "kernelspec": {
   "display_name": "base",
   "language": "python",
   "name": "python3"
  },
  "language_info": {
   "codemirror_mode": {
    "name": "ipython",
    "version": 3
   },
   "file_extension": ".py",
   "mimetype": "text/x-python",
   "name": "python",
   "nbconvert_exporter": "python",
   "pygments_lexer": "ipython3",
   "version": "3.13.2"
  }
 },
 "nbformat": 4,
 "nbformat_minor": 5
}
